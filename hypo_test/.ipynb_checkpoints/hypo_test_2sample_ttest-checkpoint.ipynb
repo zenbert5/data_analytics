{
 "cells": [
  {
   "cell_type": "markdown",
   "metadata": {},
   "source": [
    "## 2 Sample T-Test\n",
    "Suppose that last week, the average amount of time spent per visitor to a website was 25 minutes. This week, the average amount of time spent per visitor to a website was 28 minutes. Did the average time spent per visitor change? Or is this part of natural fluctuations?\n",
    "\n",
    "One way of testing whether this difference is significant is by using a 2 Sample T-Test. A 2 Sample T-Test compares two sets of data, which are both approximately normally distributed.\n",
    "\n",
    "The null hypothesis, in this case, is that the two distributions have the same mean.\n",
    "\n",
    "We can use SciPy's ttest_ind function to perform a 2 Sample T-Test. It takes the two distributions as inputs and returns the t-statistic (which we don't use), and a p-value. If you can't remember what a p-value is, refer to the earlier exercise on univariate t-tests."
   ]
  },
  {
   "cell_type": "code",
   "execution_count": 3,
   "metadata": {},
   "outputs": [
    {
     "name": "stdout",
     "output_type": "stream",
     "text": [
      "23.9050682359, 26.6763198248, 27.2743388614, 24.2575712547, 32.4042348252, 39.5691935724, 23.0701005912, 29.8206810932, 27.594338092, 28.0563956879, 27.0675726151, 30.4119297911, 25.713585536, 24.9429482273, 28.2312380683, 24.9533755533, 18.5123163893, 27.4623476164, 28.380166106, 13.9120590141, 29.0261586637, 26.907467739, 22.8677726037, 24.8938289046, 25.9694793487, 26.8686962145, 20.7267645562, 27.3598831365, 20.68408581, 21.1984614264, 16.2580093109, 23.9251768106, 24.4792322939, 29.4705086334, 27.2842537181, 26.933392715, 28.6102692407, 18.8837704171, 33.6546865148, 25.6947007699, 20.9829135571, 22.6970038707, 28.6027885533, 21.3600044266, 30.7768515631, 20.834159987, 23.7936715799, 19.7556718024, 29.544210837, 20.1433137966, \n",
      "\n",
      "18.634319072, 31.2878803631, 34.9679794256, 21.8167811694, 28.216199739, 39.3931373588, 35.5222320671, 27.5422210913, 33.6439543271, 25.3167358057, 28.8139219131, 30.7358015983, 26.372418811, 26.0945555002, 26.3407347661, 19.4219601678, 32.5879765158, 24.8400192607, 28.9334833484, 20.4366758362, 22.7249596683, 32.3172801177, 35.3843059972, 29.6670963714, 24.5351297343, 30.9140600735, 19.5611751348, 24.9081683292, 30.131637256, 31.4746619912, 27.7768359804, 16.5130746243, 35.0770162048, 31.748181067, 36.3605349649, 27.7050059329, 29.4986993626, 27.6557534604, 37.1850407544, 25.160551038, 29.2655355333, 38.2216305715, 28.9210209142, 24.8215439003, 38.3015549481, 34.7602064481, 22.2686916237, 28.8259373268, 32.0097512722, 36.4643766492, \n",
      "\n",
      "25.4480593951\n",
      "29.0215681077\n",
      "4.53169338708\n",
      "5.49796670865\n",
      "0.000676767689986\n"
     ]
    }
   ],
   "source": [
    "from scipy.stats import ttest_ind\n",
    "import numpy as np\n",
    "\n",
    "week1 = np.genfromtxt(\"week1.csv\",  delimiter=\",\")\n",
    "week2 = np.genfromtxt(\"week2.csv\",  delimiter=\",\")\n",
    "\n",
    "for i in range(len(week1)):\n",
    "  print \"{},\".format(week1[i]),\n",
    "print '\\n'\n",
    "\n",
    "for i in range(len(week2)):\n",
    "  print \"{},\".format(week2[i]),\n",
    "print '\\n'\n",
    "\n",
    "week1_mean = np.mean(week1)\n",
    "week2_mean = np.mean(week2)\n",
    "print week1_mean\n",
    "print week2_mean\n",
    "\n",
    "week1_std = np.std(week1)\n",
    "week2_std = np.std(week2)\n",
    "print week1_std\n",
    "print week2_std\n",
    "\n",
    "pstat, pval = ttest_ind(week1, week2)\n",
    "\n",
    "print pval"
   ]
  },
  {
   "cell_type": "code",
   "execution_count": null,
   "metadata": {
    "collapsed": true
   },
   "outputs": [],
   "source": []
  }
 ],
 "metadata": {
  "kernelspec": {
   "display_name": "Python 2",
   "language": "python",
   "name": "python2"
  },
  "language_info": {
   "codemirror_mode": {
    "name": "ipython",
    "version": 2
   },
   "file_extension": ".py",
   "mimetype": "text/x-python",
   "name": "python",
   "nbconvert_exporter": "python",
   "pygments_lexer": "ipython2",
   "version": "2.7.14"
  }
 },
 "nbformat": 4,
 "nbformat_minor": 2
}
