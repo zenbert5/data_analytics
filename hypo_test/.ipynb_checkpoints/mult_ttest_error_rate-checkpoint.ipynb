{
 "cells": [
  {
   "cell_type": "markdown",
   "metadata": {},
   "source": [
    "## Dangers of Multiple T-Tests\n",
    "Suppose that we own a chain of stores that sell ants, called VeryAnts. There are three different locations: A, B, and C. We want to know if the average ant sales over the past year are significantly different between the three locations.\n",
    "\n",
    "At first, it seems that we could perform T-tests between each pair of stores.\n",
    "\n",
    "We know that the p-value is the probability that we incorrectly reject the null hypothesis on each t-test. The more t-tests we perform, the more likely that we are to get a false positive, a Type I error.\n",
    "\n",
    "For a p-value of 0.05, if the null hypothesis is true then the probability of obtaining a significant result is 1 – 0.05 = 0.95. When we run another t-test, the probability of still getting a correct result is 0.95 * 0.95, or 0.9025. That means our probability of making an error is now close to 10%! This error probability only gets bigger with the more t-tests we do."
   ]
  },
  {
   "cell_type": "code",
   "execution_count": 1,
   "metadata": {},
   "outputs": [
    {
     "name": "stdout",
     "output_type": "stream",
     "text": [
      "Store A mean:58.349636084 standard deviation:14.7537040523\n",
      "Store B mean:65.6262871356 standard deviation:14.7465644902\n",
      "Store C mean:62.3611731859 standard deviation:15.0924585109\n",
      "Store A & B sales difference pval:2.76676293987e-05\n",
      "Store A & C sales difference pval:0.0210120516986\n",
      "Store B & C sales difference pval:0.0598856352397\n",
      "0.142625\n"
     ]
    }
   ],
   "source": [
    "from scipy.stats import ttest_ind\n",
    "import numpy as np\n",
    "\n",
    "a = np.genfromtxt(\"store_a.csv\",  delimiter=\",\")\n",
    "b = np.genfromtxt(\"store_b.csv\",  delimiter=\",\")\n",
    "c = np.genfromtxt(\"store_c.csv\",  delimiter=\",\")\n",
    "\n",
    "a_mean = np.mean(a)\n",
    "b_mean = np.mean(b)\n",
    "c_mean = np.mean(c)\n",
    "a_std = np.std(a)\n",
    "b_std = np.std(b)\n",
    "c_std = np.std(c)\n",
    "\n",
    "print \"Store A mean:{} standard deviation:{}\".format(a_mean,a_std)\n",
    "print \"Store B mean:{} standard deviation:{}\".format(b_mean,b_std)\n",
    "print \"Store C mean:{} standard deviation:{}\".format(c_mean,c_std)\n",
    "\n",
    "# 2-Sample T-test\n",
    "pstat, a_b_pval = ttest_ind(a, b)\n",
    "pstat, a_c_pval = ttest_ind(a, c)\n",
    "pstat, b_c_pval = ttest_ind(b, c)\n",
    "print \"Store A & B sales difference pval:{}\".format(a_b_pval)\n",
    "print \"Store A & C sales difference pval:{}\".format(a_c_pval)\n",
    "print \"Store B & C sales difference pval:{}\".format(b_c_pval)\n",
    "\n",
    "error_prob = 1- (0.95**3)\n",
    "\n",
    "# 3 samples of ttest has increased the prob of error to 14.26%\n",
    "print error_prob"
   ]
  },
  {
   "cell_type": "code",
   "execution_count": null,
   "metadata": {
    "collapsed": true
   },
   "outputs": [],
   "source": []
  }
 ],
 "metadata": {
  "kernelspec": {
   "display_name": "Python 2",
   "language": "python",
   "name": "python2"
  },
  "language_info": {
   "codemirror_mode": {
    "name": "ipython",
    "version": 2
   },
   "file_extension": ".py",
   "mimetype": "text/x-python",
   "name": "python",
   "nbconvert_exporter": "python",
   "pygments_lexer": "ipython2",
   "version": "2.7.14"
  }
 },
 "nbformat": 4,
 "nbformat_minor": 2
}
