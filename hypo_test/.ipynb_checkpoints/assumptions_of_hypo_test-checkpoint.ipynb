{
 "cells": [
  {
   "cell_type": "markdown",
   "metadata": {},
   "source": [
    "### Assumptions of Numerical Hypothesis Tests\n",
    "Before we use numerical hypothesis tests, we need to be sure that the following things are true:\n",
    "\n",
    "1. THE SAMPLES SHOULD EACH BE NORMALLY DISTRIBUTED...ISH\n",
    "Data analysts in the real world often still perform hypothesis on sets that aren't exactly normally distributed. What is more important is to recognize if there is some reason to believe that a normal distribution is especially unlikely. If your dataset is definitively not normal, the numerical hypothesis tests won't work as intended.\n",
    "\n",
    "For example, imagine we have three datasets, each representing a day of traffic data in three different cities. Each dataset is independent, as traffic in one city should not impact traffic in another city. However, it is unlikely that each dataset is normally distributed. In fact, each dataset probably has two distinct peaks, one at the morning rush hour and one during the evening rush hour. The histogram of a day of traffic data might look something like this:\n",
    "\n",
    "In this scenario, using a numerical hypothesis test would be inappropriate.\n",
    "\n",
    "2. THE POPULATION STANDARD DEVIATIONS OF THE GROUPS SHOULD BE EQUAL\n",
    "For ANOVA and 2-Sample T-Tests, using datasets with standard deviations that are significantly different from each other will often obscure the differences in group means.\n",
    "\n",
    "To check for similarity between the standard deviations, it is normally sufficient to divide the two standard deviations and see if the ratio is \"close enough\" to 1. \"Close enough\" may differ in different contexts but generally staying within 10% should suffice.\n",
    "\n",
    "3. THE SAMPLES MUST BE INDEPENDENT\n",
    "When comparing two or more datasets, the values in one distribution should not affect the values in another distribution. In other words, knowing more about one distribution should not give you any information about any other distribution.\n",
    "\n",
    "Here are some examples where it would seem the samples are not independent:\n",
    "\n",
    "the number of goals scored per soccer player before, during, and after undergoing a rigorous training regimen\n",
    "a group of patients' blood pressure levels before, during, and after the administration of a drug\n",
    "It is important to understand your datasets before you begin conducting hypothesis tests on it so that you know you are choosing the right test.\n"
   ]
  },
  {
   "cell_type": "code",
   "execution_count": 2,
   "metadata": {},
   "outputs": [
    {
     "data": {
      "image/png": "[encoded data removed]",
      "text/plain": [
       "<matplotlib.figure.Figure at 0x1062ec550>"
      ]
     },
     "metadata": {},
     "output_type": "display_data"
    },
    {
     "data": {
      "image/png": "[encoded data removed]",
      "text/plain": [
       "<matplotlib.figure.Figure at 0x10640bd10>"
      ]
     },
     "metadata": {},
     "output_type": "display_data"
    },
    {
     "data": {
      "image/png": "[encoded data removed]",
      "text/plain": [
       "<matplotlib.figure.Figure at 0x106546f90>"
      ]
     },
     "metadata": {},
     "output_type": "display_data"
    },
    {
     "data": {
      "image/png": "[encoded data removed]",
      "text/plain": [
       "<matplotlib.figure.Figure at 0x1065e9fd0>"
      ]
     },
     "metadata": {},
     "output_type": "display_data"
    },
    {
     "name": "stdout",
     "output_type": "stream",
     "text": [
      "0.58142210804\n"
     ]
    }
   ],
   "source": [
    "import numpy as np\n",
    "import matplotlib.pyplot as plt\n",
    "\n",
    "dist_1 = np.genfromtxt(\"1.csv\",  delimiter=\",\")\n",
    "dist_2 = np.genfromtxt(\"2.csv\",  delimiter=\",\")\n",
    "dist_3 = np.genfromtxt(\"3.csv\",  delimiter=\",\")\n",
    "dist_4 = np.genfromtxt(\"4.csv\",  delimiter=\",\")\n",
    "\n",
    "#plot your histogram here\n",
    "plt.hist(dist_1)\n",
    "plt.show()\n",
    "\n",
    "plt.hist(dist_2)\n",
    "plt.show()\n",
    "\n",
    "plt.hist(dist_3)\n",
    "plt.show()\n",
    "\n",
    "plt.hist(dist_4)\n",
    "plt.show()\n",
    "\n",
    "not_normal = 4\n",
    "\n",
    "dist_2_std = np.std(dist_2)\n",
    "dist_3_std = np.std(dist_3)\n",
    "ratio = dist_2_std / dist_3_std\n",
    "print ratio"
   ]
  },
  {
   "cell_type": "markdown",
   "metadata": {},
   "source": [
    "#### In the scenario above, where dist 4 has distinc curves and is not a good candidate for hypothesis test.  The ratio between dist_2 and dist_3 have great enough of variance, .58 (vs. .90 - 1), so they are not close enough to perform a numerical hypothesis test"
   ]
  }
 ],
 "metadata": {
  "kernelspec": {
   "display_name": "Python 2",
   "language": "python",
   "name": "python2"
  },
  "language_info": {
   "codemirror_mode": {
    "name": "ipython",
    "version": 2
   },
   "file_extension": ".py",
   "mimetype": "text/x-python",
   "name": "python",
   "nbconvert_exporter": "python",
   "pygments_lexer": "ipython2",
   "version": "2.7.14"
  }
 },
 "nbformat": 4,
 "nbformat_minor": 2
}
