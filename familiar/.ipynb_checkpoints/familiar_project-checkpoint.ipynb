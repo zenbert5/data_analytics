{
 "cells": [
  {
   "cell_type": "markdown",
   "metadata": {},
   "source": [
    "## Familiar: A Study In Data Analysis\n",
    "Welcome to Familiar, a startup in the new market of blood transfusion! You've joined the team because you appreciate the flexible hours and extremely intelligent team, but the overeager doorman welcoming you into the office is a nice way to start your workday (well, work-evening).\n",
    "\n",
    "Familiar has fallen into some tough times lately, so you're hoping to help them make some insights about their product and help move the needle (so to speak)."
   ]
  },
  {
   "cell_type": "code",
   "execution_count": null,
   "metadata": {
    "collapsed": true
   },
   "outputs": [],
   "source": [
    "\"\"\"\n",
    "    Familiar - a study in data analysis\n",
    "    CodeAcademy \n",
    "    Shawn Chen\n",
    "    Jan 7, 2018\n",
    "\n",
    "\"\"\"\n",
    "\n",
    "import numpy as np\n",
    "import familiar as fami\n",
    "from scipy.stats import ttest_1samp, ttest_ind, chi2_contingency\n",
    "\n",
    "# .2 load vein pack data\n",
    "vein_pack_lifespans = fami.lifespans(package='vein')\n",
    "\n",
    "# .3 calculate vein pack mean \n",
    "vein_pack_test = np.mean(vein_pack_lifespans)\n",
    "print \"Average lifespan in Vein Pack Test: {}\\n\".format(vein_pack_test)\n",
    "\n",
    "# .4 1sample test on vein pack again avg of 71\n",
    "pstat, pval = ttest_1samp(vein_pack_lifespans, 71)\n",
    "\n",
    "# .5 - .6 notify vlad of the result\n",
    "if pval < 0.05:\n",
    "  print \"The Vein Pack is Proven To Make You Live Longer!\\n\"\n",
    "else:\n",
    "  print \"The Vein Pack is Probably Good For You Somehow!\\n\"\n",
    "  \n",
    "# .7 load artery pack data  \n",
    "artery_pack_lifespans = fami.lifespans(package='artery')\n",
    "\n",
    "# .8 2sample test between artery and vein\n",
    "pstat, package_comparison_results = ttest_ind(artery_pack_lifespans, vein_pack_lifespans)\n",
    "print \"Artery v Vein Pack comparison - pval: {}\".format(pval)\n",
    "\n",
    "# .9 - .11 disclose artery pack findings\n",
    "if package_comparison_results < 0.05:\n",
    "  print \"The Artery Package Guarantees Even Stronger Results!\\n\"\n",
    "else:\n",
    "  print \"The Artery Package is Also A Great Product!\\n\"\n",
    "  \n",
    "# .12 - .13 contingency spin on the artery pack, load iron count for packages\n",
    "iron_contingency_table = fami.iron_counts_for_package()\n",
    "\n",
    "# .14 - .16 run chi-square test on iron_contingency\n",
    "chi2, iron_pval, dof, expected = chi2_contingency(iron_contingency_table)\n",
    "print \"Chi-Squared Test - pval: {}\".format(iron_pval)\n",
    "\n",
    "if iron_pval < 0.05:\n",
    "  print \"The Artery Package Is Proven To Make You Healthier!\"\n",
    "else:\n",
    "  print \"While We Can't Say The Artery Package Will Help You, I Bet It's Nice!\""
   ]
  }
 ],
 "metadata": {
  "kernelspec": {
   "display_name": "Python 2",
   "language": "python",
   "name": "python2"
  },
  "language_info": {
   "codemirror_mode": {
    "name": "ipython",
    "version": 2
   },
   "file_extension": ".py",
   "mimetype": "text/x-python",
   "name": "python",
   "nbconvert_exporter": "python",
   "pygments_lexer": "ipython2",
   "version": "2.7.14"
  }
 },
 "nbformat": 4,
 "nbformat_minor": 2
}
