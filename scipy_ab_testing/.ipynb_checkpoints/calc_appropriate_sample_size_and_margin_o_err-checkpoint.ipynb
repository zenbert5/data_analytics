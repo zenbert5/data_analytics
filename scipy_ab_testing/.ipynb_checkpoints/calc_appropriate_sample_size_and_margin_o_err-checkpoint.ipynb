{
 "cells": [
  {
   "cell_type": "markdown",
   "metadata": {},
   "source": [
    "### Margin of Error\n",
    "What does it mean to have “enough” people for a survey? Generally, we are making sure that our results are within a margin of error of the correct answer.\n",
    "\n",
    "The margin of error is the furthest we expect the true value to be from what we measure in our survey. For example, let’s say we choose a margin of error of 4%. If we get results showing 40% of people love beets the most, we can be confident that the true proportion in the population lies somewhere between 36% and 44%. Thus, the smaller we make the margin of error, the more certainty we have in the results. The larger we make the margin of error, more uncertain we are that they represent the views of the total population.\n",
    "\n",
    "In order to make our margin of error smaller, we will need a larger sample size.\n",
    "\n",
    "Margin of error:\t5%\n",
    "Confidence level:\t90% 95% 99%\n",
    "Population size:\t100000\n",
    "Likely sample proportion:\t50%\n",
    "Sample size:\t383"
   ]
  },
  {
   "cell_type": "markdown",
   "metadata": {},
   "source": [
    "### Population Size\n",
    "Our sample should accurately represent the population as a whole. So, when we are dealing with a larger population, we should probably be sampling more people.\n",
    "\n",
    "It is sometimes tricky to determine what the effective population size is. For example, suppose there are 200 people who currently visit BeetsMe regularly. Is 200 the population size for our vegetable survey?\n",
    "\n",
    "If BeetsMe wants to appeal to the tourists that frequently visit Vancucumber, or if they ever want to launch an online store to ship healthy treats all over the world, the real population size is closer to 8 billion (or infinity, really, if we think about the number of humans who could eventually exist and have vegetable preferences). So, for experiments like this, we use the highest population size we can. \n",
    "* Normally, 100,000 will suffice, as changes become negligible beyond that.\n",
    "\n",
    "** Often, for decisions that require extrapolation to an unknown customer base, it is important to understand the preferences of a typical person out in the world, whether or not they are part of your customer base right now. Generally, we use this larger population size of 100,000 or greater instead of focusing on the amount of current customers.\n",
    "\n",
    "However, if the small town of Vancucumber is holding an election for a new mayor, and we want to project the results of the election, then the 1700 citizens would be the only important people. In this case, 1700 is the population size we would use in a sample size calculator."
   ]
  },
  {
   "cell_type": "markdown",
   "metadata": {},
   "source": [
    "### Confidence Level\n",
    "We also need to choose a confidence level. The confidence level is the probability that the margin of error contains the true proportion. For example, if we choose a confidence level of 99%, we can expect that after multiple repetitions of the survey, the true value will lie within our specified range 99% of the time. As we increase the confidence level, we necessarily must have a larger sample size.\n",
    "\n",
    "* We normally use a confidence level of 95%."
   ]
  },
  {
   "cell_type": "markdown",
   "metadata": {},
   "source": [
    "### Sample Size of a Survey\n",
    "Once we determine appropriate values the margin of error, confidence level, population size, and expected proportion values for our experiment, we can use a sample size calculator to determine the minimum sample size we need to survey to get the desired confidence in our answer.\n",
    "\n",
    "Let's put together what we've learned so far and determine the appropriate sample size for BeetsMe's vegetable survey.\n",
    "\n",
    "* We are now conducting the survey to see if beets are the best vegetable to choose as a base for our new juice. Our product manager tells us that we want to be within 4% of the correct answer, with a 95% confidence level.\n",
    "* The town of Vancucumber is made up of 1700 people. We estimate that 40% of people think that the beet is the best vegetable.\n",
    "* Create variables margin_of_error, confidence_level, likely_proportion, and population_size. Store the values that will give you the most conservative sample size for this survey. For the percentages, use integers (e.g. 70% becomes 70).\n",
    "\n",
    "* Enter the values you decided on for margin of error, confidence level, population size, and likely population proportion into the sample size calculator. What sample size do we need?\n",
    "* Store your answer in a variable called sample_size\n",
    "\n",
    "* You know that you get 600 customers into BeetsMe per week. We estimate that 20% (or 120) of them will answer the written survey that we hand them with their receipt. How many weeks will it take to get the appropriate number of survey responses?\n",
    "\n",
    "* Store your answer in a variable called weeks_of_survey."
   ]
  },
  {
   "cell_type": "code",
   "execution_count": 1,
   "metadata": {
    "collapsed": true
   },
   "outputs": [],
   "source": [
    "margin_of_error = 4\n",
    "confidence_level = 95\n",
    "likely_proportion = 40\n",
    "population_size = 100000\n",
    "\n",
    "sample_size = 573\n",
    "\n",
    "customer_per_week = 600.0\n",
    "survey_perc = 0.2\n",
    "weeks_of_survey = (573 / 120) + 1"
   ]
  },
  {
   "cell_type": "markdown",
   "metadata": {},
   "source": [
    "### Differing Survey Results\n",
    "Suppose we are going to survey a group of high school students to see what programming language they want to learn. In the survey, we give the students two choices JavaScript or Python. This seems like a problem where we would use a Sample Size Survey Calculator.\n",
    "\n",
    "But what if we don’t care about getting a specific margin of error? What if instead, we want to make a comparison: Are girls more likely to want to learn Python than boys are?\n",
    "\n",
    "This survey is more similar to an A/B Test. Our baseline is the approximate percent of the population who want to learn Python, and our lift is the minimum difference between boys and girls that we want to be able to detect.\n",
    "\n",
    "Whenever we want to make comparisons between subpopulations in our survey, we must use the A/B Test Calculator in order to get our desired survey size.\n",
    "\n",
    "** A local high school is having a battle of the bands because they can't decide who should play the Junior/Senior dance. All the big names are going to give it a shot: The Secretariats, Frank & Stein's Monsters, Bad Words, even Sour Candy. We suspect that Sour Candy is more popular with seniors than with juniors. In previous years, about 35% of students preferred Sour Candy. We’re worried about a difference of more than 14 percentage points (40% difference), and only need to be 85% sure of the significance. How many students should we invite to the battle of the bands in order to test our hypothesis? Save your answer to band_battle_sample_size.\n",
    "\n",
    "Baseline conversion rate: 35%\n",
    "Statistical significance: 85%\n",
    "Minimum detectable effect: 40%\n",
    "Sample size: 170"
   ]
  }
 ],
 "metadata": {
  "kernelspec": {
   "display_name": "Python 2",
   "language": "python",
   "name": "python2"
  },
  "language_info": {
   "codemirror_mode": {
    "name": "ipython",
    "version": 2
   },
   "file_extension": ".py",
   "mimetype": "text/x-python",
   "name": "python",
   "nbconvert_exporter": "python",
   "pygments_lexer": "ipython2",
   "version": "2.7.14"
  }
 },
 "nbformat": 4,
 "nbformat_minor": 2
}
