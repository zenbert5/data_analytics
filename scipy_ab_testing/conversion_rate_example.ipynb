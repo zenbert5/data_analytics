{
 "cells": [
  {
   "cell_type": "markdown",
   "metadata": {},
   "source": [
    "### A/B Testing: Understanding the Baseline\n",
    "A/B tests compare an option that we’re currently using to a new option that we suspect might be better. In order to compare the two options, we need a metric. Generally, our metric will be the percent of users who take a certain action after interacting with one of our options. For instance:\n",
    "\n",
    "* The percent of customers who buy a t-shirt after visiting one of two versions of a website\n",
    "* The percent of users who click on one of two versions of an ad\n",
    "* The percent of readers who open an email with one of two subject lines\n",
    "\n",
    "In order to calculate the sample size for our A/B test, we need to know whether we expect our metric to be low or high. It will take more samples to be able to spot a difference when our metric is extremely low or extremely high. Our initial estimate of our metric is called a baseline.\n",
    "\n",
    "We can usually calculate a baseline by looking at historical data for the option that we’re currently using.\n",
    "\n",
    "**Viral Villanelle is an American internet media company specializing in social news and digital media. Here we looked at how many people visited the website within a ten minute window and how many engaged in our top headline this week: Seventeen Gross Facts About Your Elbows, Number Three Will Astound You. We've calculated the quantity of each, saving the values in number_of_site_visitors and number_of_converted_visitors, but would like to know what our conversion rate is."
   ]
  },
  {
   "cell_type": "code",
   "execution_count": 2,
   "metadata": {},
   "outputs": [
    {
     "name": "stdout",
     "output_type": "stream",
     "text": [
      "0.65\n"
     ]
    }
   ],
   "source": [
    "# Find the size of both of these lists\n",
    "number_of_site_visitors = 2000.0\n",
    "number_of_converted_visitors = 1300.0\n",
    "\n",
    "# Calculate the conversion rate in terms of the above two variables here\n",
    "conversion_rate = number_of_converted_visitors / number_of_site_visitors\n",
    "\n",
    "print conversion_rate"
   ]
  },
  {
   "cell_type": "markdown",
   "metadata": {},
   "source": [
    "### A/B Testing: Splitting a Test\n",
    "Viral Villanelle's social media presence drives visits to its website. Product Manager Brian wants to test a new ad. Using a sample size calculator, he finds that he will need a sample size of 1,100. Viral Villanelle’s current advertisement is shown to 500 users per day. What’s the best way for Brian to get his desired sample size?\n",
    "\n",
    "It’s important to remember that Brian will need to show both the old and the new ad to 1,100 users each. If Brian wants to get complete this test as quickly as possible, he could randomly divide users into two groups: half of users would see the old ad and half would see the new ad. It would take a little more than 4 days for 2,200 users to see one of the two ads.\n",
    "\n",
    "What if Brian doesn't want to divide Viral Villanelle's audience evenly? If Brian is running many different types of A/B tests, he might not want to expose users to a barrage of different tests. Maybe only 10% of users should be shown the new ad, in case it performs terribly. By doing this, he would only be getting 50 users per day towards the 1,100 users that need to see the new ad. In this case, he would need to wait for 22 days (1100 / 50 = 22) in order to get his results, even though he would have gotten the 1,100 views for the old ad 3 days into the experiment.\n",
    "\n",
    "For his final analysis, Brian should use all of the data from the 22 days. The Chi-Square test Chi Square test will correctly take into account that there is more data from the original ad than from the new ad.\n",
    "\n",
    "**Here at the Viral Villanelle, we found an amazing video of a hamster that appears to be rapping along to a chart-topping hip-hop song from 1979. We've been running it under the headline This Hamster Gets On The Microphone And What Happens Next Will Amaze You. This is reliably seen by 350 users daily. We are curious to see if our new headline Hamster's Delight: Watch This Fuzzy Friend's Rhythm To The Boogie (The Beat) will perform much better.\n",
    "\n",
    "**There are concerns that this new headline will alienate the jaded millennial generation so we would like to hedge our bets in case our new version performs poorly. If we only show 20% of our users the new headline, how many days will it take for us to get a sample size of at least 910 for each headline? Save your results in the variable called hamster_headline_experiment_length."
   ]
  },
  {
   "cell_type": "code",
   "execution_count": 4,
   "metadata": {},
   "outputs": [
    {
     "name": "stdout",
     "output_type": "stream",
     "text": [
      "13.0\n"
     ]
    }
   ],
   "source": [
    "baseline_size = 350\n",
    "new_ad_size = 350.0 * 0.2\n",
    "target_view_size = 910.0\n",
    "\n",
    "hamster_headline_experiment_length = target_view_size / new_ad_size\n",
    "print hamster_headline_experiment_length"
   ]
  }
 ],
 "metadata": {
  "kernelspec": {
   "display_name": "Python 2",
   "language": "python",
   "name": "python2"
  },
  "language_info": {
   "codemirror_mode": {
    "name": "ipython",
    "version": 2
   },
   "file_extension": ".py",
   "mimetype": "text/x-python",
   "name": "python",
   "nbconvert_exporter": "python",
   "pygments_lexer": "ipython2",
   "version": "2.7.14"
  }
 },
 "nbformat": 4,
 "nbformat_minor": 2
}
