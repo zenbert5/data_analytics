{
 "cells": [
  {
   "cell_type": "markdown",
   "metadata": {},
   "source": [
    "## FetchMaker\n",
    "Congratulations! You’ve just started working at the hottest new tech startup, FetchMaker. FetchMaker’s mission is to match up prospective dog owners with their perfect pet. Data on thousands of adoptable dogs are in FetchMaker’s system, and it’s your job to analyze some of that data.\n",
    "\n",
    "\n",
    "Let's start by including a data interface called fetchmaker that will give you access to FetchMaker's dog data.\n",
    "\n",
    "Use import fetchmaker at the top of your script.py file to import the fetchmaker package."
   ]
  },
  {
   "cell_type": "code",
   "execution_count": 3,
   "metadata": {
    "collapsed": true
   },
   "outputs": [],
   "source": [
    "import numpy as np\n",
    "import fetchmaker as fm"
   ]
  },
  {
   "cell_type": "markdown",
   "metadata": {},
   "source": [
    "The attributes that FetchMaker keeps track of are:\n",
    "\n",
    "* weight, an integer representing how heavy a dog is in pounds\n",
    "* tail_length, a float representing tail length in inches\n",
    "* age, in years\n",
    "* color, a String such as \"brown\" or \"grey\"\n",
    "* is_rescue, a boolean 0 or 1\n",
    "The fetchmaker package lets you access this data for a specific breed of dog with the following format:\n",
    "\n",
    " ** fetchmaker.get_weight(\"poodle\")\n",
    "\n",
    "fetchmaker.get_weight(\"poodle\")\n",
    "This returns a NumPy array of the weights of the poodles recorded in the system. The other methods are get_tail_length, get_color, get_age, and get_is_rescue, which all take a breed as an input.\n",
    "\n",
    "* Get the tail lengths of all of the \"rottweiler\"s in the system, and store it in a variable called rottweiler_tl.\n",
    "\n",
    "* Print out the mean of rottweiler_tl and the standard deviation of rottweiler_tl, using np.mean and np.std."
   ]
  },
  {
   "cell_type": "code",
   "execution_count": 4,
   "metadata": {},
   "outputs": [
    {
     "name": "stdout",
     "output_type": "stream",
     "text": [
      "Average tail length of rottweiler is 4.2361 with standar deviation of 2.06475368749\n"
     ]
    }
   ],
   "source": [
    "rottweiler_tl = fm.get_tail_length(\"rottweiler\")\n",
    "\n",
    "print \"Average tail length of rottweiler is {} with standar deviation of {}\".format(np.mean(rottweiler_tl), np.std(rottweiler_tl))"
   ]
  },
  {
   "cell_type": "markdown",
   "metadata": {},
   "source": [
    "Over the years, we have seen that we expect **8%** of dogs in the FetchMaker system to be rescues. We want to know if whippets are significantly more or less likely to be a rescue.\n",
    "\n",
    "Store the is_rescue values for \"whippet\"s in a variable called whippet_rescue."
   ]
  },
  {
   "cell_type": "code",
   "execution_count": 5,
   "metadata": {
    "collapsed": true
   },
   "outputs": [],
   "source": [
    "whippet_rescue = fm.get_is_rescue(\"whippet\")"
   ]
  },
  {
   "cell_type": "markdown",
   "metadata": {},
   "source": [
    "Use np.count_nonzero to get the number of entries in whippet_rescue that are 1. Store this number in a variable called num_whippet_rescues.\n",
    "\n",
    "Get the number of samples in the whippet set by taking the np.size of whippet_rescue. Store this in a variable called num_whippets."
   ]
  },
  {
   "cell_type": "code",
   "execution_count": 6,
   "metadata": {
    "collapsed": true
   },
   "outputs": [],
   "source": [
    "num_whippet_rescues = np.count_nonzero(whippet_rescue)\n",
    "num_whippets = np.size(whippet_rescue)"
   ]
  },
  {
   "cell_type": "markdown",
   "metadata": {},
   "source": [
    "Use a binomial test to test the number of whippet rescues, num_whippet_rescues, against our expected percentage, 8%.\n",
    "\n",
    "Remember to import the binomial test by using from scipy.stats import binom_test."
   ]
  },
  {
   "cell_type": "code",
   "execution_count": 7,
   "metadata": {},
   "outputs": [
    {
     "name": "stdout",
     "output_type": "stream",
     "text": [
      "0.581178010624\n"
     ]
    }
   ],
   "source": [
    "from scipy.stats import binom_test, f_oneway, ttest_ind, chi2_contingency\n",
    "\n",
    "pval = binom_test(num_whippet_rescues, num_whippets, p=0.08)\n",
    "print pval"
   ]
  },
  {
   "cell_type": "markdown",
   "metadata": {},
   "source": [
    "Three of our most popular mid-sized dog breeds are whippets, terriers, and pitbulls. Is there a significant difference in the average weights of these three dog breeds? Perform a comparative numerical test to determine if there is a significant difference."
   ]
  },
  {
   "cell_type": "code",
   "execution_count": 8,
   "metadata": {},
   "outputs": [
    {
     "name": "stdout",
     "output_type": "stream",
     "text": [
      "Average weight of whippet is 40.82, terrier is 30.92, and pitbull is 44.16\n",
      "\n",
      "There isn't a significant difference between the breeds based on weight\n"
     ]
    }
   ],
   "source": [
    "whippet_weight = fm.get_weight(\"whippet\")\n",
    "terrier_weight = fm.get_weight(\"terrier\")\n",
    "pitbull_weight = fm.get_weight(\"pitbull\")\n",
    "\n",
    "whippet_weight_avg = np.mean(whippet_weight)\n",
    "terrier_weight_avg = np.mean(terrier_weight)\n",
    "pitbull_weight_avg = np.mean(pitbull_weight)\n",
    "print \"Average weight of whippet is {}, terrier is {}, and pitbull is {}\\n\".format(whippet_weight_avg, terrier_weight_avg, pitbull_weight_avg)\n",
    "\n",
    "tstat, weight_avg_pval = f_oneway(whippet_weight, terrier_weight, pitbull_weight)\n",
    "if weight_avg_pval < 0.05:\n",
    "  print \"There isn't a significant difference between the breeds based on weight\"\n",
    "else:\n",
    "  print \"Weight may be a factor in the breeds\""
   ]
  },
  {
   "cell_type": "markdown",
   "metadata": {},
   "source": [
    "Now, perform another test to determine which of the pairs of these dog breeds differ from each other."
   ]
  },
  {
   "cell_type": "code",
   "execution_count": 9,
   "metadata": {},
   "outputs": [
    {
     "name": "stdout",
     "output_type": "stream",
     "text": [
      "Whippet v Terrier weight - pval 1.16992867788e-09\n",
      "Whippet v Pitbull weight - pval 0.0374252984019\n",
      "Terrier v Pitbull weight - pval 2.3360916239e-20\n"
     ]
    }
   ],
   "source": [
    "pstat, w_t_pval = ttest_ind(whippet_weight, terrier_weight)\n",
    "pstat, w_p_pval = ttest_ind(whippet_weight, pitbull_weight)\n",
    "pstat, t_p_pval = ttest_ind(terrier_weight, pitbull_weight)\n",
    "\n",
    "print \"Whippet v Terrier weight - pval {}\".format(w_t_pval)\n",
    "print \"Whippet v Pitbull weight - pval {}\".format(w_p_pval)\n",
    "print \"Terrier v Pitbull weight - pval {}\".format(t_p_pval)"
   ]
  },
  {
   "cell_type": "markdown",
   "metadata": {},
   "source": [
    "We want to see if \"poodle\"s and \"shihtzu\"s have significantly different color breakdowns.\n",
    "\n",
    "Get the poodle colors and store it in a variable called poodle_colors.\n",
    "\n",
    "Get the shih tzu colors and store it in a variable called shihtzu_colors.\n",
    "Feed your color_table into SciPy's Chi Square test, save the p-value and print it out.\n",
    "\n",
    "Is there a significant difference?"
   ]
  },
  {
   "cell_type": "code",
   "execution_count": 10,
   "metadata": {},
   "outputs": [
    {
     "name": "stdout",
     "output_type": "stream",
     "text": [
      "Poodle v Shihtzu yield pval of 0.0053\n"
     ]
    }
   ],
   "source": [
    "# .11 compare poodle and shihtzu colors breakdown\n",
    "poodle_colors = fm.get_color(\"poodle\")\n",
    "shihtzu_colors = fm.get_color(\"shihtzu\")\n",
    "\n",
    "# .12 - .13 create chi_square test of poodle vs shihtzu based on colors\n",
    "unique_col = np.unique(poodle_colors)\n",
    "color_table = [[0 for x in (0,1)] for y in range(len(unique_col))]\n",
    "for i in range(len(unique_col)):\n",
    "  color_table[i][0] = np.count_nonzero(poodle_colors == unique_col[i])\n",
    "  color_table[i][1] = np.count_nonzero(shihtzu_colors == unique_col[i])\n",
    "\n",
    "chi2, pval, dof, expected = chi2_contingency(color_table)\n",
    "  \n",
    "print \"Poodle v Shihtzu yield pval of {:.4f}\".format(pval)"
   ]
  }
 ],
 "metadata": {
  "kernelspec": {
   "display_name": "Python 2",
   "language": "python",
   "name": "python2"
  },
  "language_info": {
   "codemirror_mode": {
    "name": "ipython",
    "version": 2
   },
   "file_extension": ".py",
   "mimetype": "text/x-python",
   "name": "python",
   "nbconvert_exporter": "python",
   "pygments_lexer": "ipython2",
   "version": "2.7.14"
  }
 },
 "nbformat": 4,
 "nbformat_minor": 2
}
